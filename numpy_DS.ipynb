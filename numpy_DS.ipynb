{
  "nbformat": 4,
  "nbformat_minor": 0,
  "metadata": {
    "colab": {
      "provenance": [],
      "authorship_tag": "ABX9TyP+rVQCbflw1TQQurxmkzVS",
      "include_colab_link": true
    },
    "kernelspec": {
      "name": "python3",
      "display_name": "Python 3"
    },
    "language_info": {
      "name": "python"
    }
  },
  "cells": [
    {
      "cell_type": "markdown",
      "metadata": {
        "id": "view-in-github",
        "colab_type": "text"
      },
      "source": [
        "<a href=\"https://colab.research.google.com/github/w2k31984/Numpy_DS/blob/master/numpy_DS.ipynb\" target=\"_parent\"><img src=\"https://colab.research.google.com/assets/colab-badge.svg\" alt=\"Open In Colab\"/></a>"
      ]
    },
    {
      "cell_type": "markdown",
      "source": [
        "#Trabajando con Numpy para ciencia de datos."
      ],
      "metadata": {
        "id": "KQoKpxOaz4A2"
      }
    },
    {
      "cell_type": "code",
      "source": [],
      "metadata": {
        "id": "tyN17aMFz0Wi"
      },
      "execution_count": null,
      "outputs": []
    }
  ]
}