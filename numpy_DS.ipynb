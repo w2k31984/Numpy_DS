{
  "nbformat": 4,
  "nbformat_minor": 0,
  "metadata": {
    "colab": {
      "provenance": [],
      "collapsed_sections": [],
      "authorship_tag": "ABX9TyP806WqvnbN7pe4lWsOsnhC",
      "include_colab_link": true
    },
    "kernelspec": {
      "name": "python3",
      "display_name": "Python 3"
    },
    "language_info": {
      "name": "python"
    }
  },
  "cells": [
    {
      "cell_type": "markdown",
      "metadata": {
        "id": "view-in-github",
        "colab_type": "text"
      },
      "source": [
        "<a href=\"https://colab.research.google.com/github/w2k31984/Numpy_DS/blob/master/numpy_DS.ipynb\" target=\"_parent\"><img src=\"https://colab.research.google.com/assets/colab-badge.svg\" alt=\"Open In Colab\"/></a>"
      ]
    },
    {
      "cell_type": "markdown",
      "source": [
        "#Trabajando con Numpy para ciencia de datos."
      ],
      "metadata": {
        "id": "KQoKpxOaz4A2"
      }
    },
    {
      "cell_type": "code",
      "source": [
        "#Importamos la libreria de numpy a nuestro proyecto\n",
        "import numpy as np\n",
        "#pip install numpy\n"
      ],
      "metadata": {
        "id": "tyN17aMFz0Wi"
      },
      "execution_count": 1,
      "outputs": []
    },
    {
      "cell_type": "code",
      "source": [
        "#Ejemplos de Arrays en Python\n",
        "array_1d=np.array([1,4,3])\n",
        "array_1d\n"
      ],
      "metadata": {
        "colab": {
          "base_uri": "https://localhost:8080/"
        },
        "id": "xXfTeWye48vu",
        "outputId": "9175af3f-9d47-4463-fdb6-d1934ac5373a"
      },
      "execution_count": 2,
      "outputs": [
        {
          "output_type": "execute_result",
          "data": {
            "text/plain": [
              "array([1, 4, 3])"
            ]
          },
          "metadata": {},
          "execution_count": 2
        }
      ]
    },
    {
      "cell_type": "code",
      "source": [
        "array_2d=np.array([(1,5,7),(3,7,1)])\n",
        "array_2d"
      ],
      "metadata": {
        "colab": {
          "base_uri": "https://localhost:8080/"
        },
        "id": "ZB7zFtM85usf",
        "outputId": "dd2e61d5-7d89-4628-cf62-7e7615642d81"
      },
      "execution_count": 3,
      "outputs": [
        {
          "output_type": "execute_result",
          "data": {
            "text/plain": [
              "array([[1, 5, 7],\n",
              "       [3, 7, 1]])"
            ]
          },
          "metadata": {},
          "execution_count": 3
        }
      ]
    }
  ]
}