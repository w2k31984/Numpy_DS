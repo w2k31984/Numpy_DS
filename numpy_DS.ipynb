{
  "nbformat": 4,
  "nbformat_minor": 0,
  "metadata": {
    "colab": {
      "provenance": [],
      "collapsed_sections": [],
      "authorship_tag": "ABX9TyOUQUdlwalELvv92XVFgtij",
      "include_colab_link": true
    },
    "kernelspec": {
      "name": "python3",
      "display_name": "Python 3"
    },
    "language_info": {
      "name": "python"
    }
  },
  "cells": [
    {
      "cell_type": "markdown",
      "metadata": {
        "id": "view-in-github",
        "colab_type": "text"
      },
      "source": [
        "<a href=\"https://colab.research.google.com/github/w2k31984/Numpy_DS/blob/master/numpy_DS.ipynb\" target=\"_parent\"><img src=\"https://colab.research.google.com/assets/colab-badge.svg\" alt=\"Open In Colab\"/></a>"
      ]
    },
    {
      "cell_type": "markdown",
      "source": [
        "#Trabajando con Numpy para ciencia de datos."
      ],
      "metadata": {
        "id": "KQoKpxOaz4A2"
      }
    },
    {
      "cell_type": "code",
      "source": [
        "#Importamos la libreria de numpy a nuestro proyecto\n",
        "import numpy as np\n",
        "#pip install numpy\n"
      ],
      "metadata": {
        "id": "tyN17aMFz0Wi"
      },
      "execution_count": 1,
      "outputs": []
    },
    {
      "cell_type": "code",
      "source": [
        "#Ejemplos de Arrays en Python\n",
        "array_1d=np.array([1,4,3])\n",
        "array_1d\n"
      ],
      "metadata": {
        "colab": {
          "base_uri": "https://localhost:8080/"
        },
        "id": "xXfTeWye48vu",
        "outputId": "9175af3f-9d47-4463-fdb6-d1934ac5373a"
      },
      "execution_count": 2,
      "outputs": [
        {
          "output_type": "execute_result",
          "data": {
            "text/plain": [
              "array([1, 4, 3])"
            ]
          },
          "metadata": {},
          "execution_count": 2
        }
      ]
    },
    {
      "cell_type": "code",
      "source": [
        "array_2d=np.array([(1,5,7),(3,7,1)])\n",
        "array_2d"
      ],
      "metadata": {
        "colab": {
          "base_uri": "https://localhost:8080/"
        },
        "id": "ZB7zFtM85usf",
        "outputId": "dd2e61d5-7d89-4628-cf62-7e7615642d81"
      },
      "execution_count": 3,
      "outputs": [
        {
          "output_type": "execute_result",
          "data": {
            "text/plain": [
              "array([[1, 5, 7],\n",
              "       [3, 7, 1]])"
            ]
          },
          "metadata": {},
          "execution_count": 3
        }
      ]
    },
    {
      "cell_type": "code",
      "source": [
        "array_3d=np.array([[(1,4,2),(3,7,9)],[(4,0,8),(2,5,1)],[(3,9,2),(1,7,5)]],dtype=float)\n",
        "array_3d"
      ],
      "metadata": {
        "colab": {
          "base_uri": "https://localhost:8080/"
        },
        "id": "uCuzuK1G6rQK",
        "outputId": "9cd38bc0-1092-4113-84b5-c027af3fd350"
      },
      "execution_count": 5,
      "outputs": [
        {
          "output_type": "execute_result",
          "data": {
            "text/plain": [
              "array([[[1., 4., 2.],\n",
              "        [3., 7., 9.]],\n",
              "\n",
              "       [[4., 0., 8.],\n",
              "        [2., 5., 1.]],\n",
              "\n",
              "       [[3., 9., 2.],\n",
              "        [1., 7., 5.]]])"
            ]
          },
          "metadata": {},
          "execution_count": 5
        }
      ]
    },
    {
      "cell_type": "markdown",
      "source": [
        "Creando Arrays"
      ],
      "metadata": {
        "id": "Gs8Xhr6Rj4j0"
      }
    },
    {
      "cell_type": "code",
      "source": [
        "#De ceros con tres filas y cuatro columnas\n",
        "array_Ceros=np.zeros((3,4))\n",
        "array_Ceros"
      ],
      "metadata": {
        "colab": {
          "base_uri": "https://localhost:8080/"
        },
        "id": "9a5EMDV7j6Tc",
        "outputId": "74cae5fc-9b4a-4cd2-80a1-7ed0b7d83420"
      },
      "execution_count": 9,
      "outputs": [
        {
          "output_type": "execute_result",
          "data": {
            "text/plain": [
              "array([[0., 0., 0., 0.],\n",
              "       [0., 0., 0., 0.],\n",
              "       [0., 0., 0., 0.]])"
            ]
          },
          "metadata": {},
          "execution_count": 9
        }
      ]
    },
    {
      "cell_type": "code",
      "source": [
        "print(np.zeros((4,5)))"
      ],
      "metadata": {
        "colab": {
          "base_uri": "https://localhost:8080/"
        },
        "id": "48Aeja84kRSk",
        "outputId": "f36a4514-47e5-4ca2-cf58-90fce0ad6223"
      },
      "execution_count": 8,
      "outputs": [
        {
          "output_type": "stream",
          "name": "stdout",
          "text": [
            "[[0. 0. 0. 0. 0.]\n",
            " [0. 0. 0. 0. 0.]\n",
            " [0. 0. 0. 0. 0.]\n",
            " [0. 0. 0. 0. 0.]]\n"
          ]
        }
      ]
    },
    {
      "cell_type": "code",
      "source": [
        "#Array de 2 dimensiones 4 filas 5 columnas\n",
        "array_2d_4f_5c=np.ones((2,4,5))\n",
        "array_2d_4f_5c"
      ],
      "metadata": {
        "colab": {
          "base_uri": "https://localhost:8080/"
        },
        "id": "lYCubSE3kf1s",
        "outputId": "c3f8f0cd-670a-47d3-8115-c038f839c0eb"
      },
      "execution_count": 11,
      "outputs": [
        {
          "output_type": "execute_result",
          "data": {
            "text/plain": [
              "array([[[1., 1., 1., 1., 1.],\n",
              "        [1., 1., 1., 1., 1.],\n",
              "        [1., 1., 1., 1., 1.],\n",
              "        [1., 1., 1., 1., 1.]],\n",
              "\n",
              "       [[1., 1., 1., 1., 1.],\n",
              "        [1., 1., 1., 1., 1.],\n",
              "        [1., 1., 1., 1., 1.],\n",
              "        [1., 1., 1., 1., 1.]]])"
            ]
          },
          "metadata": {},
          "execution_count": 11
        }
      ]
    },
    {
      "cell_type": "code",
      "source": [
        "#Array de intervalos y saltos\n",
        "array_inter_saltos=np.arange(12,31,2)\n",
        "array_inter_saltos"
      ],
      "metadata": {
        "colab": {
          "base_uri": "https://localhost:8080/"
        },
        "id": "jY6wIGyGy9gm",
        "outputId": "0b090336-c102-458c-f4b2-a65b6cddf44c"
      },
      "execution_count": 13,
      "outputs": [
        {
          "output_type": "execute_result",
          "data": {
            "text/plain": [
              "array([12, 14, 16, 18, 20, 22, 24, 26, 28, 30])"
            ]
          },
          "metadata": {},
          "execution_count": 13
        }
      ]
    },
    {
      "cell_type": "code",
      "source": [
        "#Array de Intervalos y divisiones\n",
        "array_inter_div=np.linspace(0,4,7)\n",
        "array_inter_div"
      ],
      "metadata": {
        "colab": {
          "base_uri": "https://localhost:8080/"
        },
        "id": "cFdq-zC_GelW",
        "outputId": "85818f26-f2c5-46e3-a9ad-9f11532cd197"
      },
      "execution_count": 14,
      "outputs": [
        {
          "output_type": "execute_result",
          "data": {
            "text/plain": [
              "array([0.        , 0.66666667, 1.33333333, 2.        , 2.66666667,\n",
              "       3.33333333, 4.        ])"
            ]
          },
          "metadata": {},
          "execution_count": 14
        }
      ]
    },
    {
      "cell_type": "code",
      "source": [
        "#Valor dado\n",
        "array_valor_dado=np.full((3,3),8)\n",
        "array_valor_dado"
      ],
      "metadata": {
        "colab": {
          "base_uri": "https://localhost:8080/"
        },
        "id": "Se2NU_r4JBGk",
        "outputId": "38b04c2c-17c5-466a-98d7-6ed4a6405491"
      },
      "execution_count": 16,
      "outputs": [
        {
          "output_type": "execute_result",
          "data": {
            "text/plain": [
              "array([[8, 8, 8],\n",
              "       [8, 8, 8],\n",
              "       [8, 8, 8]])"
            ]
          },
          "metadata": {},
          "execution_count": 16
        }
      ]
    },
    {
      "cell_type": "code",
      "source": [
        "#Array matriz identidad diagonal de unos\n",
        "array_matriz_identidad=np.eye(3)\n",
        "array_matriz_identidad"
      ],
      "metadata": {
        "colab": {
          "base_uri": "https://localhost:8080/"
        },
        "id": "pxYGhwuFLSpx",
        "outputId": "98455939-6a05-4779-fa78-bb844b86c696"
      },
      "execution_count": 18,
      "outputs": [
        {
          "output_type": "execute_result",
          "data": {
            "text/plain": [
              "array([[1., 0., 0.],\n",
              "       [0., 1., 0.],\n",
              "       [0., 0., 1.]])"
            ]
          },
          "metadata": {},
          "execution_count": 18
        }
      ]
    },
    {
      "cell_type": "code",
      "source": [],
      "metadata": {
        "id": "7YeNfIQANMkN"
      },
      "execution_count": null,
      "outputs": []
    }
  ]
}